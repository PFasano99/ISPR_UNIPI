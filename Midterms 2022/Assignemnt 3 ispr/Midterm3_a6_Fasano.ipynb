{
 "cells": [
  {
   "cell_type": "markdown",
   "metadata": {},
   "source": [
    "### ISPR Midterm 3 Assignment 6 \n",
    "<font size=\"4\"> Paolo Fasano </font> <font size=\"2\"> p.fasano1@studenti.unipi.it</font>\n"
   ]
  },
  {
   "cell_type": "markdown",
   "metadata": {},
   "source": [
    "--- \n",
    "\n",
    "#### Section 1: The Code\n",
    "\n",
    "The code in this notebook is divided based on it's purpose:\n",
    "\n",
    "- 1.1 Loading the Dataset\n",
    "- 1.2 Preprocessing the Dataset\n",
    "- 1.3 Training the LSTM model\n",
    "- 1.4 Taking care of the Dataset unbalance   \n",
    "- 1.5 Experimenting with bidirectional LSTM "
   ]
  },
  {
   "cell_type": "markdown",
   "metadata": {},
   "source": [
    "##### 1.1 Loading the dataset"
   ]
  },
  {
   "cell_type": "code",
   "execution_count": 6,
   "metadata": {},
   "outputs": [],
   "source": [
    "import pandas as pd\n",
    "import random"
   ]
  },
  {
   "cell_type": "code",
   "execution_count": 7,
   "metadata": {},
   "outputs": [],
   "source": [
    "trueNews = pd.read_csv(\"./dataset/True.csv\")\n",
    "fakeNews = pd.read_csv(\"./dataset/Fake.csv\")"
   ]
  },
  {
   "cell_type": "markdown",
   "metadata": {},
   "source": [
    "Due to the fact that the dataset do not contains the labels we will add them to the Dataframe variable adding a column label, with \"0\" if it is a real news or \"1\" otherwise.  \n",
    "Another change in the dataset that was deemed useful, was the deletion of the date column to have less information to process, it has been delated because the date has been deemed useless information to identify fake news."
   ]
  },
  {
   "cell_type": "code",
   "execution_count": 8,
   "metadata": {},
   "outputs": [],
   "source": [
    "trueNews['label'] = 0\n",
    "fakeNews['label'] = 1\n",
    "del trueNews[\"date\"] \n",
    "del fakeNews[\"date\"]"
   ]
  },
  {
   "cell_type": "code",
   "execution_count": 9,
   "metadata": {},
   "outputs": [],
   "source": [
    "def reduceDataset(dataset, precentageReduction = 30, randomDrop = True):\n",
    "    if precentageReduction == 100:\n",
    "        reducedDS = pd.DataFrame()    \n",
    "        return reducedDS\n",
    "    if precentageReduction == 0.:\n",
    "        reducedDS = dataset   \n",
    "        return reducedDS\n",
    "\n",
    "    reducedDS = dataset\n",
    "    rowDropList = []\n",
    "    if randomDrop:\n",
    "        rowDropList = []\n",
    "        rowDropList = random.sample(range(0, len(reducedDS)), int((precentageReduction*len(reducedDS))/100))       \n",
    "        \n",
    "    else:\n",
    "        for i in range (0,int((precentageReduction*len(reducedDS))/100)):\n",
    "            rowDropList.append(i)\n",
    "\n",
    "    reducedDS = reducedDS.drop(rowDropList)\n",
    "\n",
    "\n",
    "    return reducedDS\n"
   ]
  },
  {
   "cell_type": "markdown",
   "metadata": {},
   "source": [
    "Considering the fact that \"in the real world, real news are much more frequent than fake ones\", the fake news dataset has been reduced to 60% of it's original length. "
   ]
  },
  {
   "cell_type": "code",
   "execution_count": 10,
   "metadata": {},
   "outputs": [
    {
     "name": "stdout",
     "output_type": "stream",
     "text": [
      "the number of fake news before reduction is:  23481\n",
      "the number of the fake news after  40 % reduction is:  14089 \n",
      "\n",
      "the number of real news is:  21417  the number of fake news will be:  14089\n",
      "the full dataset size will be:  35506\n"
     ]
    }
   ],
   "source": [
    "percentReduction = 40\n",
    "reduceFakeNews = reduceDataset(fakeNews, precentageReduction=percentReduction)\n",
    "print(\"the number of fake news before reduction is: \",len(fakeNews))\n",
    "print(\"the number of the fake news after \", percentReduction ,\"% reduction is: \",len(reduceFakeNews),\"\\n\")\n",
    "print(\"the number of real news is: \",len(trueNews),\" the number of fake news will be: \",len(reduceFakeNews))\n",
    "\n",
    "#to create a dataset containing all the \"kind\" of news the two csv have been concatenated\n",
    "allNews = pd.concat([reduceFakeNews, trueNews])\n",
    "print(\"the full dataset size will be: \", len(allNews))"
   ]
  },
  {
   "cell_type": "markdown",
   "metadata": {},
   "source": [
    "##### 1.2 Preprocessing the Dataset"
   ]
  },
  {
   "cell_type": "code",
   "execution_count": 11,
   "metadata": {},
   "outputs": [
    {
     "name": "stderr",
     "output_type": "stream",
     "text": [
      "[nltk_data] Downloading package punkt to\n",
      "[nltk_data]     C:\\Users\\super\\AppData\\Roaming\\nltk_data...\n",
      "[nltk_data]   Package punkt is already up-to-date!\n",
      "[nltk_data] Downloading package wordnet to\n",
      "[nltk_data]     C:\\Users\\super\\AppData\\Roaming\\nltk_data...\n",
      "[nltk_data]   Package wordnet is already up-to-date!\n",
      "[nltk_data] Downloading package stopwords to\n",
      "[nltk_data]     C:\\Users\\super\\AppData\\Roaming\\nltk_data...\n",
      "[nltk_data]   Package stopwords is already up-to-date!\n",
      "[nltk_data] Downloading package omw-1.4 to\n",
      "[nltk_data]     C:\\Users\\super\\AppData\\Roaming\\nltk_data...\n",
      "[nltk_data]   Package omw-1.4 is already up-to-date!\n"
     ]
    },
    {
     "data": {
      "text/plain": [
       "True"
      ]
     },
     "execution_count": 11,
     "metadata": {},
     "output_type": "execute_result"
    }
   ],
   "source": [
    "#nltk preprocessing library will be used to create a format of data that can be feed to the LSTM\n",
    "import nltk\n",
    "from nltk import word_tokenize\n",
    "from nltk.stem.wordnet import WordNetLemmatizer \n",
    "from nltk.corpus import stopwords\n",
    "from nltk.corpus import wordnet\n",
    "\n",
    "nltk.download('punkt')\n",
    "nltk.download('wordnet')\n",
    "nltk.download('stopwords')\n",
    "nltk.download('omw-1.4')"
   ]
  },
  {
   "cell_type": "markdown",
   "metadata": {},
   "source": [
    "The operation that are executed over the dataset to transform it into a useful format are the following:\n",
    "\n",
    "- Tokenization\n",
    "- Lemmitization \n",
    "- Stop Words removal\n",
    "- Title and text concatenation: the title and text for each entity in the dataset get concatenated to create a column in the dataset that contains both."
   ]
  },
  {
   "cell_type": "code",
   "execution_count": 12,
   "metadata": {},
   "outputs": [
    {
     "data": {
      "text/plain": [
       "0        [Donald, Trump, Sends, Out, Embarrassing, New,...\n",
       "1        [Drunk, Bragging, Trump, Staffer, Started, Rus...\n",
       "3        [Trump, Is, So, Obsessed, He, Even, Has, Obama...\n",
       "5        [Racist, Alabama, Cops, Brutalize, Black, Boy,...\n",
       "6        [Fresh, Off, The, Golf, Course, ,, Trump, Lash...\n",
       "                               ...                        \n",
       "21412    ['Fully, committed, ', NATO, backs, new, U.S.,...\n",
       "21413    [LexisNexis, withdrew, two, products, from, Ch...\n",
       "21414    [Minsk, cultural, hub, becomes, haven, from, a...\n",
       "21415    [Vatican, upbeat, on, possibility, of, Pope, F...\n",
       "21416    [Indonesia, to, buy, $, 1.14, billion, worth, ...\n",
       "Name: title, Length: 35506, dtype: object"
      ]
     },
     "execution_count": 12,
     "metadata": {},
     "output_type": "execute_result"
    }
   ],
   "source": [
    "allNews[\"text\"].apply(word_tokenize)\n",
    "allNews[\"title\"].apply(word_tokenize)"
   ]
  },
  {
   "cell_type": "code",
   "execution_count": 13,
   "metadata": {},
   "outputs": [],
   "source": [
    "lemmatizer = WordNetLemmatizer()\n",
    "#Loop through title dataframe and lemmatize each word\n",
    "def lemma(allNews):\n",
    "    return \"\".join([lemmatizer.lemmatize(w) for w in allNews])\n",
    "\n",
    "#Apply to dataframe\n",
    "allNews['title'] = allNews['title'].apply(lemma)\n",
    "allNews['text'] = allNews['text'].apply(lemma)"
   ]
  },
  {
   "cell_type": "code",
   "execution_count": 14,
   "metadata": {},
   "outputs": [],
   "source": [
    "allNews['title_text'] = (allNews[\"title\"]+\" \"+allNews[\"text\"])\n",
    "stops = set(stopwords.words('english'))\n",
    "allNews['title_text'] = allNews['title_text'].apply(lambda text: \" \".join([word for word in text.split() if word not in stops]))\n"
   ]
  },
  {
   "cell_type": "markdown",
   "metadata": {},
   "source": [
    "##### 1.3 Training the LSTM model"
   ]
  },
  {
   "cell_type": "code",
   "execution_count": 15,
   "metadata": {},
   "outputs": [],
   "source": [
    "import matplotlib.pyplot as plt\n",
    "from sklearn.model_selection import train_test_split\n",
    "from keras.layers import LSTM, Dropout, Dense \n",
    "from keras import Sequential\n",
    "import tensorflow as tf\n",
    "from tensorflow import one_hot, pad\n",
    "import numpy as np\n",
    "import tensorflow_hub as hub"
   ]
  },
  {
   "cell_type": "markdown",
   "metadata": {},
   "source": [
    "The next step was to embed the whole text inside allNews['title_text'] to convert each series of words to a word2vec embedding and than pad the sequence with zeros to be sure that all the sections have the same length, this is done to account for different length of words "
   ]
  },
  {
   "cell_type": "code",
   "execution_count": 16,
   "metadata": {},
   "outputs": [],
   "source": [
    "\n",
    "embed = hub.load(\"https://tfhub.dev/google/Wiki-words-250/2\")\n",
    "\n",
    "emb_news_train = []\n",
    "for i in allNews['title_text']:\n",
    "  temp = np.array(embed([i]))\n",
    "  emb_news_train.append(temp)\n",
    "\n",
    "emb_title = tf.keras.preprocessing.sequence.pad_sequences(emb_news_train,dtype='float')"
   ]
  },
  {
   "cell_type": "code",
   "execution_count": 17,
   "metadata": {},
   "outputs": [
    {
     "name": "stdout",
     "output_type": "stream",
     "text": [
      "(24854, 1, 250)\n",
      "(19854, 1, 250)\n",
      "(10652, 1, 250)\n",
      "(19854,)\n",
      "(10652,)\n"
     ]
    }
   ],
   "source": [
    "X_train, X_test, y_train, y_test = train_test_split(emb_title, allNews[\"label\"].values, test_size=0.3, random_state=42)\n",
    "\n",
    "print(X_train.shape)\n",
    " \n",
    "testSet_text= X_train[:5000]\n",
    "testSet_label=y_train[:5000]\n",
    "\n",
    "X_train = X_train[5000:]\n",
    "y_train = y_train[5000:]\n",
    " \n",
    "\n",
    "print(X_train.shape)\n",
    "print(X_test.shape)\n",
    "print(y_train.shape)\n",
    "print(y_test.shape)\n"
   ]
  },
  {
   "cell_type": "markdown",
   "metadata": {},
   "source": [
    "The next step was to create and train the model for the classification, the layers used were:\n",
    "- LSTM layer: to analyze the sequence of data;\n",
    "- Dropout layer: to avoid overfitting;\n",
    "- Dense layer: as output layer with a sigmoid function;"
   ]
  },
  {
   "cell_type": "code",
   "execution_count": 79,
   "metadata": {},
   "outputs": [],
   "source": [
    "\n",
    "model= Sequential()\n",
    "model.add(LSTM(90)) \n",
    "model.add(Dropout(0.3)) \n",
    "model.add(Dense(1,activation='sigmoid'))\n",
    "\n",
    "model.compile(loss='binary_crossentropy',optimizer='adam',metrics=['accuracy'])"
   ]
  },
  {
   "cell_type": "code",
   "execution_count": 80,
   "metadata": {},
   "outputs": [
    {
     "name": "stdout",
     "output_type": "stream",
     "text": [
      "Epoch 1/15\n",
      "311/311 [==============================] - 3s 5ms/step - loss: 0.2571 - accuracy: 0.9049 - val_loss: 0.1579 - val_accuracy: 0.9485\n",
      "Epoch 2/15\n",
      "311/311 [==============================] - 1s 3ms/step - loss: 0.1465 - accuracy: 0.9494 - val_loss: 0.1431 - val_accuracy: 0.9509\n",
      "Epoch 3/15\n",
      "311/311 [==============================] - 1s 3ms/step - loss: 0.1295 - accuracy: 0.9558 - val_loss: 0.1153 - val_accuracy: 0.9599\n",
      "Epoch 4/15\n",
      "311/311 [==============================] - 1s 3ms/step - loss: 0.1168 - accuracy: 0.9600 - val_loss: 0.1230 - val_accuracy: 0.9576\n",
      "Epoch 5/15\n",
      "311/311 [==============================] - 1s 3ms/step - loss: 0.1129 - accuracy: 0.9598 - val_loss: 0.1056 - val_accuracy: 0.9634\n",
      "Epoch 6/15\n",
      "311/311 [==============================] - 1s 3ms/step - loss: 0.1086 - accuracy: 0.9624 - val_loss: 0.1017 - val_accuracy: 0.9646\n",
      "Epoch 7/15\n",
      "311/311 [==============================] - 1s 3ms/step - loss: 0.1034 - accuracy: 0.9641 - val_loss: 0.0974 - val_accuracy: 0.9659\n",
      "Epoch 8/15\n",
      "311/311 [==============================] - 1s 3ms/step - loss: 0.0967 - accuracy: 0.9660 - val_loss: 0.1004 - val_accuracy: 0.9655\n",
      "Epoch 9/15\n",
      "311/311 [==============================] - 1s 3ms/step - loss: 0.0957 - accuracy: 0.9680 - val_loss: 0.0918 - val_accuracy: 0.9687\n",
      "Epoch 10/15\n",
      "311/311 [==============================] - 1s 3ms/step - loss: 0.0926 - accuracy: 0.9678 - val_loss: 0.0932 - val_accuracy: 0.9675\n",
      "Epoch 11/15\n",
      "311/311 [==============================] - 1s 3ms/step - loss: 0.0853 - accuracy: 0.9698 - val_loss: 0.0851 - val_accuracy: 0.9710\n",
      "Epoch 12/15\n",
      "311/311 [==============================] - 1s 3ms/step - loss: 0.0842 - accuracy: 0.9699 - val_loss: 0.0847 - val_accuracy: 0.9708\n",
      "Epoch 13/15\n",
      "311/311 [==============================] - 1s 3ms/step - loss: 0.0789 - accuracy: 0.9727 - val_loss: 0.0910 - val_accuracy: 0.9675\n",
      "Epoch 14/15\n",
      "311/311 [==============================] - 1s 3ms/step - loss: 0.0787 - accuracy: 0.9712 - val_loss: 0.0806 - val_accuracy: 0.9727\n",
      "Epoch 15/15\n",
      "311/311 [==============================] - 1s 3ms/step - loss: 0.0785 - accuracy: 0.9713 - val_loss: 0.0792 - val_accuracy: 0.9724\n"
     ]
    },
    {
     "data": {
      "image/png": "[encoded data removed]",
      "text/plain": [
       "<Figure size 432x288 with 1 Axes>"
      ]
     },
     "metadata": {
      "needs_background": "light"
     },
     "output_type": "display_data"
    }
   ],
   "source": [
    "history = model.fit(X_train,y_train,validation_data=(X_test,y_test),epochs=15,batch_size=64)\n",
    "plt.plot(history.history['loss'])\n",
    "plt.plot(history.history['val_loss'])\n",
    "plt.title('model loss')\n",
    "plt.ylabel('loss')\n",
    "plt.xlabel('epoch')\n",
    "plt.legend(['train_loss', 'val_loss'], loc='upper left')\n",
    "plt.show()"
   ]
  },
  {
   "cell_type": "code",
   "execution_count": 126,
   "metadata": {},
   "outputs": [
    {
     "name": "stdout",
     "output_type": "stream",
     "text": [
      "Generate predictions for the test set\n",
      "79/79 [==============================] - 0s 2ms/step - loss: 0.0930 - accuracy: 0.9766\n",
      "test loss, test acc: [0.09302478283643723, 0.9765999913215637]\n",
      "Expected value:  1  Received value:  [1.]\n",
      "Expected value:  1  Received value:  [1.]\n",
      "Expected value:  0  Received value:  [0.]\n",
      "Expected value:  1  Received value:  [1.]\n",
      "Expected value:  1  Received value:  [1.]\n",
      "Expected value:  0  Received value:  [0.]\n",
      "Expected value:  1  Received value:  [1.]\n",
      "Expected value:  0  Received value:  [0.]\n",
      "Expected value:  0  Received value:  [0.]\n",
      "Expected value:  1  Received value:  [1.]\n",
      "Expected value:  0  Received value:  [0.]\n",
      "Expected value:  0  Received value:  [0.]\n",
      "Expected value:  0  Received value:  [0.]\n",
      "Expected value:  1  Received value:  [1.]\n",
      "Expected value:  1  Received value:  [1.]\n",
      "Expected value:  0  Received value:  [0.]\n",
      "Expected value:  1  Received value:  [1.]\n",
      "Expected value:  1  Received value:  [1.]\n",
      "Expected value:  1  Received value:  [1.]\n",
      "Expected value:  0  Received value:  [0.]\n",
      "Expected value:  0  Received value:  [0.]\n",
      "Expected value:  1  Received value:  [1.]\n",
      "Expected value:  0  Received value:  [0.]\n",
      "Expected value:  1  Received value:  [1.]\n",
      "Expected value:  0  Received value:  [0.]\n",
      "Expected value:  0  Received value:  [0.]\n",
      "Expected value:  0  Received value:  [0.]\n",
      "Expected value:  0  Received value:  [0.]\n",
      "Expected value:  0  Received value:  [0.]\n",
      "Expected value:  1  Received value:  [1.]\n",
      "Expected value:  1  Received value:  [1.]\n",
      "Expected value:  0  Received value:  [0.]\n",
      "Expected value:  1  Received value:  [1.]\n",
      "Expected value:  0  Received value:  [0.]\n",
      "Expected value:  0  Received value:  [0.]\n",
      "Expected value:  0  Received value:  [0.]\n",
      "Expected value:  0  Received value:  [0.]\n",
      "Expected value:  0  Received value:  [0.]\n",
      "Expected value:  0  Received value:  [0.]\n",
      "Expected value:  1  Received value:  [1.]\n",
      "Expected value:  0  Received value:  [0.]\n",
      "Expected value:  1  Received value:  [1.]\n",
      "Expected value:  1  Received value:  [1.]\n",
      "Expected value:  1  Received value:  [1.]\n",
      "Expected value:  1  Received value:  [1.]\n",
      "Expected value:  0  Received value:  [0.]\n",
      "Expected value:  0  Received value:  [0.]\n",
      "Expected value:  0  Received value:  [0.]\n",
      "Expected value:  0  Received value:  [0.]\n",
      "Expected value:  0  Received value:  [0.]\n"
     ]
    }
   ],
   "source": [
    "#reminder, 0 is TRUE and 1 is FAKE\n",
    "def normalizePredictions(predictions):\n",
    "    for x in range(0,len(predictions)):\n",
    "        if predictions[x] <= 0.6:\n",
    "            predictions[x] = 0.\n",
    "        else:\n",
    "            predictions[x] = 1\n",
    "    return predictions\n",
    "\n",
    "\n",
    "print(\"Generate predictions for the test set\")\n",
    "results = model.evaluate(testSet_text, testSet_label, batch_size=64)\n",
    "print(\"test loss, test acc:\", results)\n",
    "\n",
    "predictions = model.predict(testSet_text)\n",
    "predictions = normalizePredictions(predictions)\n",
    "\n",
    "\n",
    "for n in range(0,50):\n",
    "    print(\"Expected value: \",testSet_label[n],\" Received value: \",predictions[n])\n",
    "    "
   ]
  },
  {
   "cell_type": "markdown",
   "metadata": {},
   "source": [
    "##### 1.4 Taking care of the Dataset unbalance "
   ]
  },
  {
   "cell_type": "code",
   "execution_count": 115,
   "metadata": {},
   "outputs": [],
   "source": [
    "modelW= Sequential()\n",
    "modelW.add(LSTM(100)) \n",
    "modelW.add(Dropout(0.3)) \n",
    "modelW.add(Dense(1,activation='sigmoid'))\n",
    "\n",
    "modelW.compile(loss='binary_crossentropy',optimizer='adam',metrics=['accuracy'])"
   ]
  },
  {
   "cell_type": "code",
   "execution_count": 116,
   "metadata": {},
   "outputs": [
    {
     "name": "stdout",
     "output_type": "stream",
     "text": [
      "Epoch 1/15\n",
      "311/311 [==============================] - 3s 5ms/step - loss: 0.3027 - accuracy: 0.9101 - val_loss: 0.1535 - val_accuracy: 0.9477\n",
      "Epoch 2/15\n",
      "311/311 [==============================] - 1s 4ms/step - loss: 0.1764 - accuracy: 0.9494 - val_loss: 0.1301 - val_accuracy: 0.9566\n",
      "Epoch 3/15\n",
      "311/311 [==============================] - 1s 3ms/step - loss: 0.1547 - accuracy: 0.9575 - val_loss: 0.1239 - val_accuracy: 0.9554\n",
      "Epoch 4/15\n",
      "311/311 [==============================] - 1s 4ms/step - loss: 0.1463 - accuracy: 0.9585 - val_loss: 0.1075 - val_accuracy: 0.9627\n",
      "Epoch 5/15\n",
      "311/311 [==============================] - 1s 4ms/step - loss: 0.1342 - accuracy: 0.9632 - val_loss: 0.1023 - val_accuracy: 0.9647\n",
      "Epoch 6/15\n",
      "311/311 [==============================] - 1s 4ms/step - loss: 0.1298 - accuracy: 0.9622 - val_loss: 0.0978 - val_accuracy: 0.9681\n",
      "Epoch 7/15\n",
      "311/311 [==============================] - 1s 4ms/step - loss: 0.1220 - accuracy: 0.9653 - val_loss: 0.0947 - val_accuracy: 0.9690\n",
      "Epoch 8/15\n",
      "311/311 [==============================] - 1s 4ms/step - loss: 0.1187 - accuracy: 0.9658 - val_loss: 0.1004 - val_accuracy: 0.9651\n",
      "Epoch 9/15\n",
      "311/311 [==============================] - 1s 4ms/step - loss: 0.1120 - accuracy: 0.9683 - val_loss: 0.0988 - val_accuracy: 0.9664\n",
      "Epoch 10/15\n",
      "311/311 [==============================] - 1s 4ms/step - loss: 0.1105 - accuracy: 0.9693 - val_loss: 0.1013 - val_accuracy: 0.9655\n",
      "Epoch 11/15\n",
      "311/311 [==============================] - 1s 3ms/step - loss: 0.1051 - accuracy: 0.9694 - val_loss: 0.0854 - val_accuracy: 0.9721\n",
      "Epoch 12/15\n",
      "311/311 [==============================] - 1s 4ms/step - loss: 0.1012 - accuracy: 0.9711 - val_loss: 0.0842 - val_accuracy: 0.9716\n",
      "Epoch 13/15\n",
      "311/311 [==============================] - 1s 4ms/step - loss: 0.0991 - accuracy: 0.9706 - val_loss: 0.0845 - val_accuracy: 0.9705\n",
      "Epoch 14/15\n",
      "311/311 [==============================] - 1s 3ms/step - loss: 0.0981 - accuracy: 0.9714 - val_loss: 0.0836 - val_accuracy: 0.9709\n",
      "Epoch 15/15\n",
      "311/311 [==============================] - 1s 4ms/step - loss: 0.0924 - accuracy: 0.9737 - val_loss: 0.0790 - val_accuracy: 0.9730\n"
     ]
    },
    {
     "data": {
      "image/png": "[encoded data removed]",
      "text/plain": [
       "<Figure size 432x288 with 1 Axes>"
      ]
     },
     "metadata": {
      "needs_background": "light"
     },
     "output_type": "display_data"
    }
   ],
   "source": [
    "class_weights={0: 1, 1: 1.5}\n",
    "whistory = modelW.fit(X_train,y_train,validation_data=(X_test,y_test), class_weight=class_weights, epochs=15,batch_size=64)\n",
    "plt.plot(whistory.history['loss'])\n",
    "plt.plot(whistory.history['val_loss'])\n",
    "plt.title('model loss')\n",
    "plt.ylabel('loss')\n",
    "plt.xlabel('epoch')\n",
    "plt.legend(['train_loss', 'val_loss'], loc='upper right')\n",
    "plt.show()"
   ]
  },
  {
   "cell_type": "code",
   "execution_count": 127,
   "metadata": {},
   "outputs": [
    {
     "name": "stdout",
     "output_type": "stream",
     "text": [
      "Generate predictions for the test set\n",
      "79/79 [==============================] - 0s 2ms/step - loss: 0.0781 - accuracy: 0.9732\n",
      "test loss, test acc: [0.07814265042543411, 0.9732000231742859]\n",
      "Expected value:  1  Received value:  [1.]\n",
      "Expected value:  1  Received value:  [1.]\n",
      "Expected value:  0  Received value:  [0.]\n",
      "Expected value:  1  Received value:  [1.]\n",
      "Expected value:  1  Received value:  [1.]\n",
      "Expected value:  0  Received value:  [0.]\n",
      "Expected value:  1  Received value:  [1.]\n",
      "Expected value:  0  Received value:  [0.]\n",
      "Expected value:  0  Received value:  [0.]\n",
      "Expected value:  1  Received value:  [1.]\n",
      "Expected value:  0  Received value:  [0.]\n",
      "Expected value:  0  Received value:  [0.]\n",
      "Expected value:  0  Received value:  [0.]\n",
      "Expected value:  1  Received value:  [1.]\n",
      "Expected value:  1  Received value:  [1.]\n",
      "Expected value:  0  Received value:  [0.]\n",
      "Expected value:  1  Received value:  [1.]\n",
      "Expected value:  1  Received value:  [1.]\n",
      "Expected value:  1  Received value:  [1.]\n",
      "Expected value:  0  Received value:  [0.]\n",
      "Expected value:  0  Received value:  [0.]\n",
      "Expected value:  1  Received value:  [1.]\n",
      "Expected value:  0  Received value:  [0.]\n",
      "Expected value:  1  Received value:  [1.]\n",
      "Expected value:  0  Received value:  [0.]\n",
      "Expected value:  0  Received value:  [0.]\n",
      "Expected value:  0  Received value:  [0.]\n",
      "Expected value:  0  Received value:  [0.]\n",
      "Expected value:  0  Received value:  [0.]\n",
      "Expected value:  1  Received value:  [1.]\n",
      "Expected value:  1  Received value:  [1.]\n",
      "Expected value:  0  Received value:  [0.]\n",
      "Expected value:  1  Received value:  [1.]\n",
      "Expected value:  0  Received value:  [0.]\n",
      "Expected value:  0  Received value:  [0.]\n",
      "Expected value:  0  Received value:  [0.]\n",
      "Expected value:  0  Received value:  [0.]\n",
      "Expected value:  0  Received value:  [0.]\n",
      "Expected value:  0  Received value:  [0.]\n",
      "Expected value:  1  Received value:  [1.]\n",
      "Expected value:  0  Received value:  [0.]\n",
      "Expected value:  1  Received value:  [1.]\n",
      "Expected value:  1  Received value:  [1.]\n",
      "Expected value:  1  Received value:  [1.]\n",
      "Expected value:  1  Received value:  [1.]\n",
      "Expected value:  0  Received value:  [0.]\n",
      "Expected value:  0  Received value:  [1.]\n",
      "Expected value:  0  Received value:  [0.]\n",
      "Expected value:  0  Received value:  [0.]\n",
      "Expected value:  0  Received value:  [0.]\n"
     ]
    }
   ],
   "source": [
    "print(\"Generate predictions for the test set\")\n",
    "results = modelW.evaluate(testSet_text, testSet_label, batch_size=64)\n",
    "print(\"test loss, test acc:\", results)\n",
    "\n",
    "predictions = modelW.predict(testSet_text)\n",
    "predictions = normalizePredictions(predictions)\n",
    "\n",
    "\n",
    "for n in range(0,50):\n",
    "    print(\"Expected value: \",testSet_label[n],\" Received value: \",predictions[n])"
   ]
  },
  {
   "cell_type": "markdown",
   "metadata": {},
   "source": [
    "#### 1.5 Experimenting with bidirectional LSTM "
   ]
  },
  {
   "cell_type": "code",
   "execution_count": 69,
   "metadata": {},
   "outputs": [],
   "source": [
    "from keras.layers import Bidirectional "
   ]
  },
  {
   "cell_type": "code",
   "execution_count": 244,
   "metadata": {},
   "outputs": [],
   "source": [
    "modelB= Sequential()\n",
    "modelB.add(Bidirectional(LSTM(100))) \n",
    "modelB.add(Dropout(0.45)) \n",
    "modelB.add(Dense(1,activation='sigmoid'))"
   ]
  },
  {
   "cell_type": "code",
   "execution_count": 245,
   "metadata": {},
   "outputs": [
    {
     "name": "stdout",
     "output_type": "stream",
     "text": [
      "Epoch 1/30\n",
      "311/311 [==============================] - 5s 7ms/step - loss: 0.2965 - accuracy: 0.9129 - val_loss: 0.1498 - val_accuracy: 0.9501\n",
      "Epoch 2/30\n",
      "311/311 [==============================] - 1s 5ms/step - loss: 0.1815 - accuracy: 0.9477 - val_loss: 0.1247 - val_accuracy: 0.9574\n",
      "Epoch 3/30\n",
      "311/311 [==============================] - 1s 4ms/step - loss: 0.1595 - accuracy: 0.9557 - val_loss: 0.1302 - val_accuracy: 0.9558\n",
      "Epoch 4/30\n",
      "311/311 [==============================] - 1s 5ms/step - loss: 0.1440 - accuracy: 0.9609 - val_loss: 0.1096 - val_accuracy: 0.9625\n",
      "Epoch 5/30\n",
      "311/311 [==============================] - 1s 5ms/step - loss: 0.1369 - accuracy: 0.9609 - val_loss: 0.1107 - val_accuracy: 0.9640\n",
      "Epoch 6/30\n",
      "311/311 [==============================] - 1s 5ms/step - loss: 0.1320 - accuracy: 0.9619 - val_loss: 0.1081 - val_accuracy: 0.9618\n",
      "Epoch 7/30\n",
      "311/311 [==============================] - 1s 5ms/step - loss: 0.1273 - accuracy: 0.9639 - val_loss: 0.1082 - val_accuracy: 0.9632\n",
      "Epoch 8/30\n",
      "311/311 [==============================] - 1s 5ms/step - loss: 0.1202 - accuracy: 0.9658 - val_loss: 0.0921 - val_accuracy: 0.9696\n",
      "Epoch 9/30\n",
      "311/311 [==============================] - 1s 5ms/step - loss: 0.1129 - accuracy: 0.9681 - val_loss: 0.0925 - val_accuracy: 0.9684\n",
      "Epoch 10/30\n",
      "311/311 [==============================] - 1s 5ms/step - loss: 0.1136 - accuracy: 0.9683 - val_loss: 0.0892 - val_accuracy: 0.9701\n",
      "Epoch 11/30\n",
      "311/311 [==============================] - 1s 5ms/step - loss: 0.1062 - accuracy: 0.9691 - val_loss: 0.0858 - val_accuracy: 0.9712\n",
      "Epoch 12/30\n",
      "311/311 [==============================] - 1s 5ms/step - loss: 0.1047 - accuracy: 0.9695 - val_loss: 0.0863 - val_accuracy: 0.9702\n",
      "Epoch 13/30\n",
      "311/311 [==============================] - 1s 5ms/step - loss: 0.0997 - accuracy: 0.9705 - val_loss: 0.0807 - val_accuracy: 0.9732\n",
      "Epoch 14/30\n",
      "311/311 [==============================] - 1s 5ms/step - loss: 0.1002 - accuracy: 0.9704 - val_loss: 0.0822 - val_accuracy: 0.9710\n",
      "Epoch 15/30\n",
      "311/311 [==============================] - 1s 5ms/step - loss: 0.0949 - accuracy: 0.9720 - val_loss: 0.0816 - val_accuracy: 0.9712\n",
      "Epoch 16/30\n",
      "311/311 [==============================] - 1s 5ms/step - loss: 0.0913 - accuracy: 0.9731 - val_loss: 0.0780 - val_accuracy: 0.9719\n",
      "Epoch 17/30\n",
      "311/311 [==============================] - 1s 5ms/step - loss: 0.0927 - accuracy: 0.9714 - val_loss: 0.0771 - val_accuracy: 0.9733\n",
      "Epoch 18/30\n",
      "311/311 [==============================] - 2s 5ms/step - loss: 0.0886 - accuracy: 0.9742 - val_loss: 0.0773 - val_accuracy: 0.9725\n",
      "Epoch 19/30\n",
      "311/311 [==============================] - 1s 5ms/step - loss: 0.0874 - accuracy: 0.9736 - val_loss: 0.1059 - val_accuracy: 0.9609\n",
      "Epoch 20/30\n",
      "311/311 [==============================] - 1s 5ms/step - loss: 0.0899 - accuracy: 0.9721 - val_loss: 0.0837 - val_accuracy: 0.9683\n",
      "Epoch 21/30\n",
      "311/311 [==============================] - 1s 5ms/step - loss: 0.0821 - accuracy: 0.9766 - val_loss: 0.0741 - val_accuracy: 0.9740\n",
      "Epoch 22/30\n",
      "311/311 [==============================] - 1s 5ms/step - loss: 0.0844 - accuracy: 0.9742 - val_loss: 0.0821 - val_accuracy: 0.9698\n",
      "Epoch 23/30\n",
      "311/311 [==============================] - 1s 5ms/step - loss: 0.0784 - accuracy: 0.9763 - val_loss: 0.0774 - val_accuracy: 0.9726\n",
      "Epoch 24/30\n",
      "311/311 [==============================] - 1s 5ms/step - loss: 0.0786 - accuracy: 0.9755 - val_loss: 0.0731 - val_accuracy: 0.9744\n",
      "Epoch 25/30\n",
      "311/311 [==============================] - 1s 5ms/step - loss: 0.0788 - accuracy: 0.9752 - val_loss: 0.0756 - val_accuracy: 0.9723\n",
      "Epoch 26/30\n",
      "311/311 [==============================] - 1s 5ms/step - loss: 0.0776 - accuracy: 0.9772 - val_loss: 0.0781 - val_accuracy: 0.9721\n",
      "Epoch 27/30\n",
      "311/311 [==============================] - 1s 5ms/step - loss: 0.0758 - accuracy: 0.9771 - val_loss: 0.0713 - val_accuracy: 0.9747\n",
      "Epoch 28/30\n",
      "311/311 [==============================] - 1s 5ms/step - loss: 0.0753 - accuracy: 0.9786 - val_loss: 0.0713 - val_accuracy: 0.9750\n",
      "Epoch 29/30\n",
      "311/311 [==============================] - 1s 5ms/step - loss: 0.0732 - accuracy: 0.9787 - val_loss: 0.0709 - val_accuracy: 0.9745\n",
      "Epoch 30/30\n",
      "311/311 [==============================] - 1s 5ms/step - loss: 0.0742 - accuracy: 0.9779 - val_loss: 0.0745 - val_accuracy: 0.9732\n"
     ]
    },
    {
     "data": {
      "image/png": "[encoded data removed]",
      "text/plain": [
       "<Figure size 432x288 with 1 Axes>"
      ]
     },
     "metadata": {
      "needs_background": "light"
     },
     "output_type": "display_data"
    }
   ],
   "source": [
    "modelB.compile(loss='binary_crossentropy',optimizer='adam',metrics=['accuracy'])\n",
    "class_weights={0: 1, 1: 1.5}\n",
    "whistory = modelB.fit(X_train,y_train,validation_data=(X_test,y_test), class_weight=class_weights, epochs=30,batch_size=64)\n",
    "plt.plot(whistory.history['loss'])\n",
    "plt.plot(whistory.history['val_loss'])\n",
    "plt.title('model loss')\n",
    "plt.ylabel('loss')\n",
    "plt.xlabel('epoch')\n",
    "plt.legend(['train_loss', 'val_loss'], loc='upper right')\n",
    "plt.show()"
   ]
  },
  {
   "cell_type": "code",
   "execution_count": 246,
   "metadata": {},
   "outputs": [
    {
     "name": "stdout",
     "output_type": "stream",
     "text": [
      "Generate predictions for the test set\n",
      "79/79 [==============================] - 0s 2ms/step - loss: 0.0684 - accuracy: 0.9768\n",
      "test loss, test acc: [0.06837322562932968, 0.9768000245094299]\n",
      "Expected value:  1  Received value:  [1.]\n",
      "Expected value:  1  Received value:  [1.]\n",
      "Expected value:  0  Received value:  [0.]\n",
      "Expected value:  1  Received value:  [1.]\n",
      "Expected value:  1  Received value:  [1.]\n",
      "Expected value:  0  Received value:  [0.]\n",
      "Expected value:  1  Received value:  [1.]\n",
      "Expected value:  0  Received value:  [0.]\n",
      "Expected value:  0  Received value:  [0.]\n",
      "Expected value:  1  Received value:  [1.]\n",
      "Expected value:  0  Received value:  [0.]\n",
      "Expected value:  0  Received value:  [0.]\n",
      "Expected value:  0  Received value:  [0.]\n",
      "Expected value:  1  Received value:  [1.]\n",
      "Expected value:  1  Received value:  [1.]\n",
      "Expected value:  0  Received value:  [0.]\n",
      "Expected value:  1  Received value:  [1.]\n",
      "Expected value:  1  Received value:  [1.]\n",
      "Expected value:  1  Received value:  [1.]\n",
      "Expected value:  0  Received value:  [0.]\n",
      "Expected value:  0  Received value:  [0.]\n",
      "Expected value:  1  Received value:  [1.]\n",
      "Expected value:  0  Received value:  [0.]\n",
      "Expected value:  1  Received value:  [1.]\n",
      "Expected value:  0  Received value:  [0.]\n",
      "Expected value:  0  Received value:  [0.]\n",
      "Expected value:  0  Received value:  [0.]\n",
      "Expected value:  0  Received value:  [0.]\n",
      "Expected value:  0  Received value:  [0.]\n",
      "Expected value:  1  Received value:  [1.]\n",
      "Expected value:  1  Received value:  [1.]\n",
      "Expected value:  0  Received value:  [0.]\n",
      "Expected value:  1  Received value:  [1.]\n",
      "Expected value:  0  Received value:  [0.]\n",
      "Expected value:  0  Received value:  [0.]\n",
      "Expected value:  0  Received value:  [0.]\n",
      "Expected value:  0  Received value:  [0.]\n",
      "Expected value:  0  Received value:  [0.]\n",
      "Expected value:  0  Received value:  [0.]\n",
      "Expected value:  1  Received value:  [1.]\n",
      "Expected value:  0  Received value:  [0.]\n",
      "Expected value:  1  Received value:  [1.]\n",
      "Expected value:  1  Received value:  [1.]\n",
      "Expected value:  1  Received value:  [1.]\n",
      "Expected value:  1  Received value:  [1.]\n",
      "Expected value:  0  Received value:  [0.]\n",
      "Expected value:  0  Received value:  [1.]\n",
      "Expected value:  0  Received value:  [0.]\n",
      "Expected value:  0  Received value:  [0.]\n",
      "Expected value:  0  Received value:  [0.]\n"
     ]
    }
   ],
   "source": [
    "print(\"Generate predictions for the test set\")\n",
    "results = modelB.evaluate(testSet_text, testSet_label, batch_size=64)\n",
    "print(\"test loss, test acc:\", results)\n",
    "\n",
    "predictions = modelB.predict(testSet_text)\n",
    "predictions = normalizePredictions(predictions)\n",
    "\n",
    "\n",
    "for n in range(0,50):\n",
    "    print(\"Expected value: \",testSet_label[n],\" Received value: \",predictions[n])"
   ]
  },
  {
   "cell_type": "markdown",
   "metadata": {},
   "source": [
    "#### Section 2: Analysis "
   ]
  },
  {
   "cell_type": "markdown",
   "metadata": {},
   "source": [
    "The model chosen for the task of classifying the fake news and the real news was the LSTM.  \n",
    "The Long Short-Term Memory model has some useful features such as elimination of unused information and memorizing the sequence of the information which makes the LSTM a powerful tool for performing text classification.   \n",
    "\n",
    "Another motivation that lead to pick the LSTM model is the paper:   \n",
    "[1][An LSTM Approach to Short Text Sentiment Classification with Word Embeddings](https://aclanthology.org/O18-1021) (Wang et al., ROCLING 2018)  \n",
    "This paper states that comparing: Naïve Bayes (NB), Extreme Learning Machine (ELM), and Long Short-Term Memory (LSTM), the LSTM is the model that performs better in most tasks of text classification.\n",
    "\n",
    "In the model used for this assignment an average 96% accuracy on the validation and 96.5% on the test set while using the unbalanced dataset (having more real news than fake ones) and a balanced test-set, was achieved.  \n",
    "Using the same model as before, but taking into consideration the dataset unbalance applying the class weight which gives more importance to the miss-classified samples if they where part of the class with less samples (the fake news in our case), using this method an average 97.4% accuracy was achieved on the validation and with an average 97.6% on the test set while using, as before, the unbalanced dataset and a balanced test-set.  \n",
    "\n",
    "Some experiments have been tried with a bidirectional LSTM, which in our case give slightly better results in the validation, than the standard LSTM, but at the cost of double the epochs which is non-ideal.\n",
    "\n",
    "Some of the runs with different hyperparameter:                                                  \n",
    "|                      |LSTM units|Dropout rate|Dense units|Epochs| loss | accuracy | val_loss | val_accuracy | test loss | test accuracy |\n",
    "|----------------------|----------|------------|-----------|------|------|----------|----------|--------------|-----------|---------------|\n",
    "|Without class weight  |90        |0.3         |1          |15    |0.0787|97.12%    |0.0806    |97.27%        |0.0930     |97.36%         | \n",
    "|Without class weight  |70        |0.4         |1          |15    |0.0946|96.64%    |0.0973    |96.69%        |0.0664     |97.10%         | \n",
    "|Without class weight  |70        |0.3         |1          |15    |0.0898|96.88%    |0.0902    |96.85%        |0.0961     |96.78%         |\n",
    "|                      |          |            |           |      |      |          |          |              |           |               |\n",
    "|With class weight     |100       |0.3         |1          |15    |0.0924|97.37%    |0.0790    |97.30%        |0.0781     |97.62%         | \n",
    "|With class weight     |70        |0.4         |1          |15    |0.0391|97.77%    |0.0634    |97.11%        |0.0957     |97.34%         | \n",
    "|With class weight     |70        |0.3         |1          |15    |0.1005|97.08%    |0.0904    |96.78%        |0.0895     |97.03%         |\n",
    "|                      |          |            |           |      |      |          |          |              |           |               |\n",
    "|Bidirectional         |          |            |           |      |      |          |          |              |           |               |\n",
    "|With class weight     |100       |0.45        |1          |30    |0.0814|97.50%    |0.0730    |97.54%        |0.0683     |97.68%         |\n",
    "|With class weight     |100       |0.35        |1          |20    |0.1085|96.86%    |0.0860    |97.18%        |0.0753     |97.22%         |\n",
    "|With class weight     |100       |0.4         |1          |20    |0.0839|97.48%    |0.0766    |97.30%        |0.0805     |97.23%         |\n",
    "\n"
   ]
  },
  {
   "cell_type": "markdown",
   "metadata": {},
   "source": [
    "#### Section 3: Conclusions"
   ]
  },
  {
   "cell_type": "markdown",
   "metadata": {},
   "source": [
    "The choice of the LSTM model, trained in this assignment, has given quite satisfying results considering that even in the case where we ignore the unbalance we get quite an high accuracy, well over 90%; the accuracy gets even higher when we take into account the unbalance between the fake news and real news and \"punish\" the model more if the misclassification happens in the smaller class.    \n",
    "On the other hand if we want to build a more \"trustworthy\" model we would probably want to compare the news we are analyzing to news that can be found on authoritative sources to cross validate them.   \n",
    "The implementation of such mechanism would help avoiding cases where the prediction is wrong just due to the subject of the prediction or the structure of the text analyzed. This could be a concern if these text formulations and subjects, are only present or present in a way higher number of examples, in the fake news portion of the dataset.  \n",
    "Overall the LSTM seems to be a good pick for text classification.      \n"
   ]
  }
 ],
 "metadata": {
  "interpreter": {
   "hash": "c428d4300b96006bd89c7861a64ca1379b2ef13eb8daabe066e18431431e18b4"
  },
  "kernelspec": {
   "display_name": "Python 3.9.12 64-bit",
   "language": "python",
   "name": "python3"
  },
  "language_info": {
   "codemirror_mode": {
    "name": "ipython",
    "version": 3
   },
   "file_extension": ".py",
   "mimetype": "text/x-python",
   "name": "python",
   "nbconvert_exporter": "python",
   "pygments_lexer": "ipython3",
   "version": "3.9.12"
  },
  "orig_nbformat": 4
 },
 "nbformat": 4,
 "nbformat_minor": 2
}
