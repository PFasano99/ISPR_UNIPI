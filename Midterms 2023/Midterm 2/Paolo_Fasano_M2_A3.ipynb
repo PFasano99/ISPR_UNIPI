{
 "cells": [
  {
   "attachments": {},
   "cell_type": "markdown",
   "metadata": {},
   "source": [
    "# Paolo Fasano - Assignemnt 3 - Midterm 2\n",
    "\n",
    "\n",
    "Implement from scratch an RBM and apply it to DSET3. The RBM should be implemented fully by you (both CD-1 training and inference steps) but you are free to use library functions for the rest (e.g. image loading and management, etc.).\n",
    "\n",
    "1.     Train an RBM with a number of hidden neurons selected by you (single layer) on the MNIST data (use the training set split provided by the website).\n",
    "\n",
    "2.     Use the trained RBM to encode a selection of test images (e.g. using one per digit type) using the corresponding activation of the hidden neurons.\n",
    "\n",
    "3.     Reconstruct the original test images from their hidden encoding and confront the reconstructions with the original image (use a suitable quantitative metric to assess the reconstraction quality and also choose few examples to confront visually)."
   ]
  },
  {
   "attachments": {},
   "cell_type": "markdown",
   "metadata": {},
   "source": [
    "## Step 1: implementing the RBM"
   ]
  },
  {
   "cell_type": "code",
   "execution_count": 1,
   "metadata": {},
   "outputs": [],
   "source": [
    "import torch \n",
    "from sklearn.datasets import fetch_openml\n",
    "from sklearn.model_selection import train_test_split\n",
    "from sklearn.utils import gen_batches\n",
    "import numpy as np\n",
    "import matplotlib.pyplot as plt"
   ]
  },
  {
   "cell_type": "code",
   "execution_count": 2,
   "metadata": {},
   "outputs": [],
   "source": [
    "class RBM():\n",
    "    def __init__(self, nVisible, nHidden):\n",
    "      self.weight = np.random.randn(nVisible, nHidden)\n",
    "      self.nHidden = nHidden\n",
    "      self.nVisible = nVisible\n",
    "      self.biasPhv = np.random.randn(nHidden)\n",
    "      self.biasPvh = np.random.randn(nVisible)  \n",
    "\n",
    "    def fit(self, X, batch_size = 32, epochs = 10, learning_rate = 0.5):\n",
    "      \n",
    "      for epoch in range(0,epochs):\n",
    "        error_in_epoch = 0\n",
    "        batches = list(gen_batches(X.shape[0], batch_size))\n",
    "        \n",
    "        for batch in batches:\n",
    "          batch = X[batch.start:batch.stop]\n",
    "          batch_size = batch.shape[0]\n",
    "          \n",
    "          # Wake\n",
    "          data = np.ones((batch_size, self.nHidden))\n",
    "          poshidP = data/(data + np.exp(-np.dot(batch,self.weight) - self.biasPhv)) # Hidden activation probability\n",
    "          wake = np.dot(batch.T, poshidP)\n",
    "          \n",
    "          # Dream\n",
    "          poshidS = np.ones((batch_size, self.nVisible)) # Stochastic hidden activation\n",
    "          reconDataP = poshidS / (poshidS + np.exp(-np.dot(poshidP, np.transpose(self.weight))-self.biasPvh)) # Data reconstruction probability\n",
    "          reconData = np.ones((batch_size, self.nHidden)) # Stochastic reconstructed data\n",
    "          neghidP = reconData / (reconData + np.exp(-np.dot(reconDataP, self.weight) - self.biasPhv))\n",
    "          dream = np.dot(np.transpose(reconDataP), neghidP)\n",
    "          \n",
    "          # Error\n",
    "          error = np.sum((batch-reconDataP)**2)/batch_size\n",
    "          \n",
    "          # Update CD-1\n",
    "          self.weight += learning_rate*(wake-dream)/batch_size\n",
    "          self.biasPhv += learning_rate*(np.sum(poshidP-neghidP, axis=0))/batch_size\n",
    "          self.biasPvh += learning_rate*(np.sum(batch-reconDataP, axis=0))/batch_size\n",
    "\n",
    "          error_in_epoch += error\n",
    "          \n",
    "        error_in_epoch /= len(batches)\n",
    "        print(epoch, \": error = \", error_in_epoch)\n",
    "        \n",
    "    def inference(self, X):\n",
    "      data = np.ones((X.shape[0], self.nHidden))\n",
    "      poshidP = data/(data + np.exp(-np.dot(X,self.weight)-self.biasPhv))\n",
    "      \n",
    "      return poshidP\n",
    "\n",
    "\n",
    "    def reconstruct(self, X):\n",
    "      ones_poshidP = np.ones((X.shape[0], self.nHidden))\n",
    "      poshidP = ones_poshidP/(ones_poshidP + np.exp(-np.dot(X,self.weight)-self.biasPhv))\n",
    "      poshidS = poshidP > np.random.uniform(size=poshidP.shape)\n",
    "      \n",
    "      ones_reconDataP = np.ones((X.shape[0], self.nVisible))\n",
    "      reconDataP = ones_reconDataP / (ones_reconDataP + np.exp(-np.dot(poshidS,np.transpose(self.weight))-self.biasPvh))\n",
    "\n",
    "      return reconDataP      "
   ]
  },
  {
   "attachments": {},
   "cell_type": "markdown",
   "metadata": {},
   "source": [
    "The RBM class take as a input the number of hidden and visible neurons.  \n",
    "- The function fit trains the model, it requires X which are the data, batch_size, epochs, learning_rate;  \n",
    "- The function inference infers and return the probabilities of the hidden units   \n",
    "- The function reconstruct recreates the data  "
   ]
  },
  {
   "attachments": {},
   "cell_type": "markdown",
   "metadata": {},
   "source": [
    "## Step 2: train the RBM"
   ]
  },
  {
   "cell_type": "code",
   "execution_count": 3,
   "metadata": {},
   "outputs": [
    {
     "name": "stderr",
     "output_type": "stream",
     "text": [
      "/home/paolo/.local/lib/python3.10/site-packages/sklearn/datasets/_openml.py:932: FutureWarning: The default value of `parser` will change from `'liac-arff'` to `'auto'` in 1.4. You can set `parser='auto'` to silence this warning. Therefore, an `ImportError` will be raised from 1.4 if the dataset is dense and pandas is not installed. Note that the pandas parser may return different data types. See the Notes Section in fetch_openml's API doc for details.\n",
      "  warn(\n"
     ]
    },
    {
     "name": "stdout",
     "output_type": "stream",
     "text": [
      "The elements of the dataset are transformed in the binary form: [False  True]\n",
      "Train: (60000, 784) (60000,) \t Test: (10000, 784) (10000,)\n"
     ]
    }
   ],
   "source": [
    "X, Y = fetch_openml(\"mnist_784\", version=1, return_X_y=True, as_frame=False)\n",
    "\n",
    "X_train, X_test, Y_train, Y_test = train_test_split(X, Y, test_size=10000)\n",
    "X_test_copy = X_test #will be used later for comparison and metrics\n",
    "\n",
    "X_train /= 255\n",
    "X_train = (X_train > 0.5)\n",
    "\n",
    "X_test /= 255\n",
    "X_test = (X_test > 0.5)\n",
    "\n",
    "print(f\"The elements of the dataset are transformed in the binary form: {np.unique(X_train)}\")\n",
    "print(f\"Train: {X_train.shape} {Y_train.shape} \\t Test: {X_test.shape} {Y_test.shape}\")"
   ]
  },
  {
   "cell_type": "code",
   "execution_count": 4,
   "metadata": {},
   "outputs": [
    {
     "name": "stdout",
     "output_type": "stream",
     "text": [
      "0 : error =  39.21756702497085\n",
      "1 : error =  33.525064855788735\n",
      "2 : error =  32.08656672985406\n",
      "3 : error =  31.106761628007384\n",
      "4 : error =  30.006630281799254\n",
      "5 : error =  29.111533883126278\n",
      "6 : error =  28.44967166312372\n",
      "7 : error =  27.959912422851946\n",
      "8 : error =  27.591920006371566\n",
      "9 : error =  27.21955384249016\n",
      "10 : error =  26.997572656275004\n",
      "11 : error =  26.9120424126184\n",
      "12 : error =  26.858799911050603\n",
      "13 : error =  26.83957406961986\n",
      "14 : error =  26.793526377140772\n"
     ]
    }
   ],
   "source": [
    "rbm = RBM(X_train.shape[1], 50)\n",
    "rbm.fit(X_train, batch_size = 15, epochs = 15, learning_rate = 0.25)"
   ]
  },
  {
   "attachments": {},
   "cell_type": "markdown",
   "metadata": {},
   "source": [
    "## Step 3: Encode a selection of test images Reconstruct the original test images"
   ]
  },
  {
   "cell_type": "code",
   "execution_count": 7,
   "metadata": {},
   "outputs": [],
   "source": [
    "reconstructed = rbm.reconstruct(X_test)"
   ]
  },
  {
   "cell_type": "code",
   "execution_count": 22,
   "metadata": {},
   "outputs": [
    {
     "name": "stdout",
     "output_type": "stream",
     "text": [
      "The Euclidean distance between image and reconstruction  1  is:  3.753230357486498\n",
      "The Euclidean distance between image and reconstruction  2  is:  2.6235671632914657\n",
      "The Euclidean distance between image and reconstruction  3  is:  4.254180088097861\n",
      "The Euclidean distance between image and reconstruction  4  is:  3.326644709870413\n",
      "The Euclidean distance between image and reconstruction  5  is:  4.511708198561285\n",
      "The Euclidean distance between image and reconstruction  6  is:  2.6378526265206927\n"
     ]
    },
    {
     "data": {
      "image/png": "[encoded data removed]",
      "text/plain": [
       "<Figure size 1000x400 with 12 Axes>"
      ]
     },
     "metadata": {},
     "output_type": "display_data"
    }
   ],
   "source": [
    "fig = plt.figure(figsize=(10, 4))\n",
    "\n",
    "rows = 2\n",
    "columns = 6\n",
    "j = 1\n",
    "\n",
    "for i in range(0,6):\n",
    "\n",
    "    fig.add_subplot(rows, columns, j)\n",
    "    plt.imshow(X_test[i].reshape((28,28)))\n",
    "    plt.axis('off')\n",
    "\n",
    "    fig.add_subplot(rows, columns, j+1)\n",
    "    plt.imshow(reconstructed[i].reshape((28, 28)))\n",
    "    plt.axis('off')\n",
    "\n",
    "    j+=2\n",
    "\n",
    "for i in range (0,6):\n",
    "    print(\"The Euclidean distance between image and reconstruction \", i+1, \" is: \", np.linalg.norm(np.asarray(X_test_copy[i])-np.asarray(reconstructed[i])))\n"
   ]
  },
  {
   "attachments": {},
   "cell_type": "markdown",
   "metadata": {},
   "source": [
    "As we can see from the results, the RBM is capable of reconstructing the input in a satisfiable way even tho some noise is present in the results. "
   ]
  }
 ],
 "metadata": {
  "kernelspec": {
   "display_name": "Python 3",
   "language": "python",
   "name": "python3"
  },
  "language_info": {
   "codemirror_mode": {
    "name": "ipython",
    "version": 3
   },
   "file_extension": ".py",
   "mimetype": "text/x-python",
   "name": "python",
   "nbconvert_exporter": "python",
   "pygments_lexer": "ipython3",
   "version": "3.10.7 (main, Mar 10 2023, 10:47:39) [GCC 12.2.0]"
  },
  "orig_nbformat": 4,
  "vscode": {
   "interpreter": {
    "hash": "916dbcbb3f70747c44a77c7bcd40155683ae19c65e1c03b4aa3499c5328201f1"
   }
  }
 },
 "nbformat": 4,
 "nbformat_minor": 2
}
