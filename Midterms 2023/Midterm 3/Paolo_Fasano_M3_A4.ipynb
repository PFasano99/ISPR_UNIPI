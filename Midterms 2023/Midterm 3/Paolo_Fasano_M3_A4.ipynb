{
  "cells": [
    {
      "cell_type": "markdown",
      "metadata": {
        "id": "pHLn-hTRA6cH"
      },
      "source": [
        "# Paolo Fasano - Assignemnt 4 - Midterm 3\n",
        "\n",
        "DATASET (LERCIO HEADLINES) - Dataset collected by Michele Cafagna\n",
        "\n",
        "Pick up one of the available implementations of the Char-RNN (e.g. implement1,  implement2,  implement3, implement4, etc.) and train it on the dataset which contains about 6500 headlines from the Lercio satirical newspage, scraped by Michele Cafagna, past student of the ISPR course. The dataset is contained in a CSV file, one line per headlines. Be aware that the dataset can be a bit noisy (some errors due to encoding conversions) so you might need some preprocessing in order to prepare it for the task. Also, I am afraid the dataset is in Italian only as this is the language of the newspage.\n",
        "\n",
        "Try experimenting with different configurations of the CHAR-RNN, varying the number of layers. Since the dataset is quite small, keep the number of hidden neurons contained otherwise the net will overfit. Use the trained model (the best or the worst, your choice) to generate new headlines.  \n",
        "\n",
        "The softmax has a temperature parameter T that you can use to control the randomness of the output distribution (i.e. output logits are divided by T). Experiment with different values of T and comment the results.\n"
      ]
    },
    {
      "cell_type": "markdown",
      "metadata": {
        "id": "7sZRfOt3DiMu"
      },
      "source": [
        "## Training the model\n",
        "\n",
        "The following code consists in a series of experiments using the RNN provided in the implementation 4. <br>\n",
        "The Hyperparameters tested are  the number of layers, the number of hidden units and the temperature. After each model training a example of generation is provided. <br>\n",
        "The evaluation of the quality of the model has been performed generating some phrases for each model and simply reading it checking if they made sense and where alligned with the usual \"Lercio\" titles. "
      ]
    },
    {
      "cell_type": "code",
      "execution_count": null,
      "metadata": {
        "colab": {
          "base_uri": "https://localhost:8080/"
        },
        "id": "B8ETcc97qyC9",
        "outputId": "21e713de-13b0-4764-b96d-9607ba9eb866"
      },
      "outputs": [
        {
          "output_type": "stream",
          "name": "stdout",
          "text": [
            "Cloning into 'ISPR_UNIPI'...\n",
            "remote: Enumerating objects: 581, done.\u001b[K\n",
            "remote: Counting objects: 100% (28/28), done.\u001b[K\n",
            "remote: Compressing objects: 100% (28/28), done.\u001b[K\n",
            "remote: Total 581 (delta 0), reused 27 (delta 0), pack-reused 553\u001b[K\n",
            "Receiving objects: 100% (581/581), 90.30 MiB | 17.90 MiB/s, done.\n",
            "Resolving deltas: 100% (215/215), done.\n",
            "Updating files: 100% (1028/1028), done.\n"
          ]
        }
      ],
      "source": [
        "!git clone https://github.com/PFasano99/ISPR_UNIPI"
      ]
    },
    {
      "cell_type": "code",
      "execution_count": null,
      "metadata": {
        "colab": {
          "base_uri": "https://localhost:8080/"
        },
        "id": "yKqnNznAq08H",
        "outputId": "d3ecbbad-e12b-40f1-db56-010c6d06bb38"
      },
      "outputs": [
        {
          "output_type": "stream",
          "name": "stdout",
          "text": [
            "/content/ISPR_UNIPI/Midterms 2023/Midterm 3/char-rnn-pytorch\n"
          ]
        }
      ],
      "source": [
        "%cd /content/ISPR_UNIPI/Midterms 2023/Midterm 3/char-rnn-pytorch"
      ]
    },
    {
      "cell_type": "code",
      "execution_count": null,
      "metadata": {
        "colab": {
          "base_uri": "https://localhost:8080/"
        },
        "id": "iM_NL2k0q8rU",
        "outputId": "26d0b02f-175f-41a6-977b-d0a3297e66cd"
      },
      "outputs": [
        {
          "output_type": "stream",
          "name": "stdout",
          "text": [
            "Looking in indexes: https://pypi.org/simple, https://us-python.pkg.dev/colab-wheels/public/simple/\n",
            "Collecting unidecode\n",
            "  Downloading Unidecode-1.3.6-py3-none-any.whl (235 kB)\n",
            "\u001b[2K     \u001b[90m━━━━━━━━━━━━━━━━━━━━━━━━━━━━━━━━━━━━━━\u001b[0m \u001b[32m235.9/235.9 kB\u001b[0m \u001b[31m20.9 MB/s\u001b[0m eta \u001b[36m0:00:00\u001b[0m\n",
            "\u001b[?25hInstalling collected packages: unidecode\n",
            "Successfully installed unidecode-1.3.6\n"
          ]
        }
      ],
      "source": [
        "!pip install unidecode"
      ]
    },
    {
      "cell_type": "code",
      "execution_count": null,
      "metadata": {
        "colab": {
          "base_uri": "https://localhost:8080/"
        },
        "id": "-7EJnMPZrFT3",
        "outputId": "eb4ef939-e622-4fe6-8140-22627511c89e"
      },
      "outputs": [
        {
          "output_type": "stream",
          "name": "stdout",
          "text": [
            "starting \n",
            "reading file\n",
            "file_len:  467584\n",
            "Training for 2000 epochs...\n",
            "100% 2000/2000 [04:40<00:00,  7.13it/s]\n",
            "Saving...\n",
            "Saved as dataset.pt\n",
            "results of the model with hidden_size:  50 and n_layers:  1\n",
            "------- Temperature:  0.25  -------\n",
            "A DI Ma il prossimo della passo dell'artina della prese di suo compra solo di compra stato di caperto\n",
            "------------------------------------\n",
            "------- Temperature:  0.5  -------\n",
            "A Micherimo statica che anche l'asta alla picchia su trande per una capone di commente in terdare la \n",
            "------------------------------------\n",
            "------- Temperature:  0.8  -------\n",
            "A A si ma surigo e caministro nellavormiare stabilio in scarda Fava la mital Sebbri\n",
            "Lo perdono in fun\n",
            "------------------------------------\n",
            "------- Temperature:  1  -------\n",
            "Asiu: \"Ho letano di Jo2 - M5i Stosa\n",
            "Abbisooris cod per la temoori \"Qualta e perionatato in ferenza a \n",
            "------------------------------------\n",
            "------- Temperature:  1.5  -------\n",
            "Ad ASTArd volur\n",
            "Refe prelb'\n",
            "NAVEPRLedosazionda' buaro\"\n",
            "zattozioni\n",
            "\"PINCO BISSONTE LACEMO: SULLO\n",
            "\"MI N\n",
            "------------------------------------\n",
            "starting \n",
            "reading file\n",
            "file_len:  467584\n",
            "Training for 2000 epochs...\n",
            " 79% 1588/2000 [08:58<5:49:07, 50.84s/it]^C\n",
            "results of the model with hidden_size:  50 and n_layers:  2\n",
            "------- Temperature:  0.25  -------\n",
            "A Marchedi di Sanro in distro di comparre il caperto di comparica di solo di salvare di calcio di ter\n",
            "------------------------------------\n",
            "------- Temperature:  0.5  -------\n",
            "A Molimbrana il deriare si cambia\n",
            "\"In un battere di concerto e stredere di tendando si composta la pr\n",
            "------------------------------------\n",
            "------- Temperature:  0.8  -------\n",
            "A VIM DA DA SI MARE VELE IN RIONNE STNISTUSCIO II SUI E\"\n",
            "Scopliato il compio\"\n",
            "Pressoni: campizioni\n",
            "Ap\n",
            "------------------------------------\n",
            "------- Temperature:  1  -------\n",
            "Assta avere il concesfeggie\"\n",
            "Fasci\"\n",
            "Studidis: il W95S bargare adiciono\n",
            "Squalizioni negli che ma che m\n",
            "------------------------------------\n",
            "------- Temperature:  1.5  -------\n",
            "A. RegItzione: capprabughiredon\n",
            "Tecco froviu\n",
            "Ecchime 5 troppotta\n",
            "CURGUDASQ,SMUDE EFFIMEME FNOLDA, BRU\n",
            "------------------------------------\n",
            "starting \n",
            "reading file\n",
            "file_len:  467584\n",
            "Training for 2000 epochs...\n",
            " 42% 830/2000 [04:06<5:02:18, 15.50s/it]^C\n",
            "results of the model with hidden_size:  50 and n_layers:  3\n",
            "------- Temperature:  0.25  -------\n",
            "A PER LA CHE RASTRA DI FARA SCIPERA DI NESTRA A SCONDE IL SUA SI RIVERE A SCACCE PER PER DI SCOSTRA D\n",
            "------------------------------------\n",
            "------- Temperature:  0.5  -------\n",
            "A Si di Renza bambini di accorge del volto il prossima di crisconi di fare a dalla comine a scalo con\n",
            "------------------------------------\n",
            "------- Temperature:  0.8  -------\n",
            "A ANCONCIA\"\n",
            "L'artestanti corne contro angio\"\n",
            "Neono confesa sapprira di conquandiato a un scopanitori \n",
            "------------------------------------\n",
            "------- Temperature:  1  -------\n",
            "A\"\n",
            "\"Gli un camito nel noldo che l'armita uno giorni\"\n",
            "PARI CIMASFERACA: \"FATUNTO IL RICONICHIGCERO MAL\n",
            "------------------------------------\n",
            "------- Temperature:  1.5  -------\n",
            "Ad2m\n",
            "Rigia suerne: ricosi. Commie di Martaia: aqui per 3 artreperziaiso bied>\n",
            "Tesedot domado\"\n",
            "AUSA EG\n",
            "------------------------------------\n",
            "starting \n",
            "reading file\n",
            "file_len:  467584\n",
            "Training for 2000 epochs...\n",
            " 74% 1476/2000 [04:02<49:46,  5.70s/it]^C\n",
            "results of the model with hidden_size:  75 and n_layers:  1\n",
            "------- Temperature:  0.25  -------\n",
            "A Comini della prossimo per cante della suo contro scopre contro commerto di mario di suo di comparra\n",
            "------------------------------------\n",
            "------- Temperature:  0.5  -------\n",
            "A IL SARCERNITA A MANNI ANTERNE DI SILLA FANDERE PER NESTRA A TENTERE SU GRERNE LE CISTRO E L'Anzalis\n",
            "------------------------------------\n",
            "------- Temperature:  0.8  -------\n",
            "A Alistini che l'esiscorzio prendere anche calconato dei lecchi\"\n",
            "Si Compre per la una ampato per anzo\n",
            "------------------------------------\n",
            "------- Temperature:  1  -------\n",
            "A Sessumetro dell'uomino soggi per direpiano a giusedi di Concia i testo ponita attire\n",
            "Camii Imontico\n",
            "------------------------------------\n",
            "------- Temperature:  1.5  -------\n",
            "A EUNUGEDR PERNIE+ERZE IL LIREBI\n",
            "\"MORDE L'IIRCEDE LE LOQEC!\"\n",
            "Veno il nuovi per vetuiero\n",
            "Giangeitolo 8\n",
            "------------------------------------\n",
            "starting \n",
            "reading file\n",
            "file_len:  467584\n",
            "Training for 2000 epochs...\n",
            " 37% 748/2000 [03:57<7:39:06, 22.00s/it]^C\n",
            "results of the model with hidden_size:  75 and n_layers:  2\n",
            "------- Temperature:  0.25  -------\n",
            "A Alle Comini per commerto di solo di piu con il contro diventato di campino di carchia di campera di\n",
            "------------------------------------\n",
            "------- Temperature:  0.5  -------\n",
            "A Millana di Antinanza di tetta due scopre e ritardare il pigrato di morte di Sanno di commerta il co\n",
            "------------------------------------\n",
            "------- Temperature:  0.8  -------\n",
            "A NASERA FAGITI I CASSUNTICO GUZZZZIANNESSO FALLA NON EVINICA\n",
            "Economano al dutimo la m non per strado\n",
            "------------------------------------\n",
            "------- Temperature:  1  -------\n",
            "A DNORO SUFECCHA LO SUNTETO PO FRANTRA\"\n",
            "\"Collonidi: \"Vomando eostare mio peri morto: \"Cassu per appin\n",
            "------------------------------------\n",
            "------- Temperature:  1.5  -------\n",
            "A, 9097\n",
            "\"Pua erom. Direghiper nuomae a PIPRItata!\"\", vogmo diviana il Quazomi!\" Ciizie, came! Hy ritr\n",
            "------------------------------------\n",
            "starting \n",
            "reading file\n",
            "file_len:  467584\n",
            "Training for 2000 epochs...\n",
            " 21% 429/2000 [02:16<1:58:41,  4.53s/it]^C\n",
            "results of the model with hidden_size:  75 and n_layers:  3\n",
            "------- Temperature:  0.25  -------\n",
            "A SARA DI SCICCIATO DI CANNI DELLA SCICCICE DI SI APPERTE AL MINTA SI SINTA SESTRA SU FANE INTERNO DI\n",
            "------------------------------------\n",
            "------- Temperature:  0.5  -------\n",
            "AN PRE IN DI RIVERNA DI BALLOLI DI MADRICO PAS PER ALLA LA GOBBITA DELLA FALE DELLA SIATTI DI SERERE \n",
            "------------------------------------\n",
            "------- Temperature:  0.8  -------\n",
            "A Come Jagnari: \"Vistato i muore che capi che salvanda: \"Non a candiano la gardifo vare\"\n",
            "\"Rome alla m\n",
            "------------------------------------\n",
            "------- Temperature:  1  -------\n",
            "A Rois Droppo Jagge\n",
            "F propo al l'uatia domanche cadere morte da prima per data torne\n",
            "Alebo., sondamez\n",
            "------------------------------------\n",
            "------- Temperature:  1.5  -------\n",
            "A, La G UScambrk e\n",
            "Fadin Onn Gestelero\n",
            "Ratfiga, viafato\n",
            "Uapsinua-Heggwe: Bw@.ONO\n",
            "\"Da Comilell'eciata \n",
            "------------------------------------\n",
            "starting \n",
            "reading file\n",
            "file_len:  467584\n",
            "Training for 2000 epochs...\n",
            " 55% 1094/2000 [03:16<47:22,  3.14s/it]^C\n",
            "results of the model with hidden_size:  100 and n_layers:  1\n",
            "------- Temperature:  0.25  -------\n",
            "A PD il mario in comprotto di compra scoperto in casono della stadide e alla praccia di solo all'armi\n",
            "------------------------------------\n",
            "------- Temperature:  0.5  -------\n",
            "A Si botto che compinga di dicela di casa commerto di mondo\n",
            "Renzi anche il proste apparsi di carta di\n",
            "------------------------------------\n",
            "------- Temperature:  0.8  -------\n",
            "A Ficio Dio bambine per non muore in scuo scoperto: lo stere che 300% al cosa a costia\n",
            "Latto scopre a\n",
            "------------------------------------\n",
            "------- Temperature:  1  -------\n",
            "A PER UN'EFISTESSANZIA SERITA PROSSETBICI SUL\n",
            "SEd ALLETTERENERRA AL DA TRIGIENI ITESCO\n",
            "Stondagravia\n",
            "\"\n",
            "------------------------------------\n",
            "------- Temperature:  1.5  -------\n",
            "A!\"\"\n",
            "\"STeano unrimurrerie a tota da shivata minedidezi\n",
            "Mantate\"\n",
            "\"For basorellic:\"\"\n",
            "Difeh: \"Fold: glio\n",
            "------------------------------------\n",
            "starting \n",
            "reading file\n",
            "file_len:  467584\n",
            "Training for 2000 epochs...\n",
            " 37% 746/2000 [03:09<05:17,  3.95it/s]^C\n",
            "results of the model with hidden_size:  100 and n_layers:  2\n",
            "------- Temperature:  0.25  -------\n",
            "A Parte sulla mario contro scopre di fare di parchia contro manda contro compatia in caperto di si su\n",
            "------------------------------------\n",
            "------- Temperature:  0.5  -------\n",
            "A Compre la scopre confessa il palta della Tappo steggiano della miranta di mura di stesta del mirano\n",
            "------------------------------------\n",
            "------- Temperature:  0.8  -------\n",
            "A Morti si essere smerato ti cangio terrare di anche ascore\"\"\n",
            "Passia e massue il malabile contro lo d\n",
            "------------------------------------\n",
            "------- Temperature:  1  -------\n",
            "Al Veacolo piccia 3 esper l'italime di assunza d'arsia dell'oponolo regini donistatafore in stotire s\n",
            "------------------------------------\n",
            "------- Temperature:  1.5  -------\n",
            "A del non pADEKE SU SBIERGO:!!\"\"RIDORSSTE WOXRO\"\n",
            "Giovano: entratore: poi ali ciat\n",
            "Morrano, petrato\", \n",
            "------------------------------------\n",
            "starting \n",
            "reading file\n",
            "file_len:  467584\n",
            "Training for 2000 epochs...\n",
            " 17% 332/2000 [01:56<09:49,  2.83it/s]^C\n",
            "results of the model with hidden_size:  100 and n_layers:  3\n",
            "------- Temperature:  0.25  -------\n",
            "A Abby contro sulla statia del campini che scopre e anche di martini di suo compatia da progradina di\n",
            "------------------------------------\n",
            "------- Temperature:  0.5  -------\n",
            "A GUI SA NON SUL MARA DI MARALI DEL BAZZIA ADRA SUI IN CONTE NAVORNO ANDE SELLA ESIA SESTA L'ISTRA A \n",
            "------------------------------------\n",
            "------- Temperature:  0.8  -------\n",
            "A BEPERA\n",
            "\"Ragi del controso conurci biccine\n",
            "Refite Padre del Porto per la Madre Monare: \"Prombi per c\n",
            "------------------------------------\n",
            "------- Temperature:  1  -------\n",
            "A Che rosto una uomo ancerementi\n",
            "Rogranna di Sanrogrugul: richia divlano in un Ratzi Moda mezzimenzat\n",
            "------------------------------------\n",
            "------- Temperature:  1.5  -------\n",
            "A, -p\n",
            "ROSTIMUNSIto!\"\n",
            "S lungi lescare denotunto due leggi\"\n",
            "Leva, prhutro. Impocrime dimechel tyltorepa\n",
            "------------------------------------\n"
          ]
        }
      ],
      "source": [
        "neurons = [\"50\", \"75\", \"100\"]\n",
        "layers = [\"1\", \"2\", \"3\"]\n",
        "temperature = [\"0.25\", \"0.5\", \"0.8\", \"1\", \"1.5\"]\n",
        "for n in neurons:\n",
        "  for l in layers:\n",
        "    !python train.py dataset.txt --n_epochs \"2000\" --print_every \"10000\" --hidden_size $n --n_layers $l --learning_rate \"0.01\" --chunk_len \"88\" --batch_size \"50\"\n",
        "    \n",
        "    print(\"results of the model with hidden_size: \", n, \"and n_layers: \", l)\n",
        "    for t in temperature:\n",
        "      print(\"------- Temperature: \", t, \" -------\")\n",
        "      !python generate.py dataset.pt -t $t\n",
        "      print(\"------------------------------------\")\n",
        "\n"
      ]
    },
    {
      "cell_type": "markdown",
      "source": [
        "## Analisys and conclusions\n",
        "\n",
        "Reading throu the results we can see that the \"best\" headres generation happen with 2 layers, 50 hidden units and a temperature of 0.5.\n",
        "In general the results of this simple grid search are not particulary satisfing and minly nonsensical (only small parts of the generated phrases have a meaning).\n",
        "The reaon behind this results could be one of the following:\n",
        "- the choice of the hyperparameters is not the best; a longer expermentation phase could find better results.\n",
        "- the dataset is too small, expanding the dataset with more entries could than produce better results\n",
        "- the model used is too simple to generate good results with a small dataset\n",
        "\n",
        "Overall there is a margin of improvement  \n",
        "\n"
      ],
      "metadata": {
        "id": "LZPNel4JPXM5"
      }
    },
    {
      "cell_type": "code",
      "source": [],
      "metadata": {
        "id": "xveOlxXu5SN-"
      },
      "execution_count": null,
      "outputs": []
    }
  ],
  "metadata": {
    "accelerator": "GPU",
    "colab": {
      "provenance": []
    },
    "gpuClass": "standard",
    "kernelspec": {
      "display_name": "Python 3",
      "name": "python3"
    },
    "language_info": {
      "name": "python"
    }
  },
  "nbformat": 4,
  "nbformat_minor": 0
}